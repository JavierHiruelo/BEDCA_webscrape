{
 "cells": [
  {
   "cell_type": "code",
   "execution_count": 11,
   "metadata": {},
   "outputs": [
    {
     "name": "stdout",
     "output_type": "stream",
     "text": [
      "2\n"
     ]
    },
    {
     "ename": "TypeError",
     "evalue": "El tipo de variable tiene que ser entero",
     "output_type": "error",
     "traceback": [
      "\u001b[1;31m---------------------------------------------------------------------------\u001b[0m",
      "\u001b[1;31mTypeError\u001b[0m                                 Traceback (most recent call last)",
      "\u001b[1;32mc:\\Users\\javie\\Desktop\\Prueba\\prueba.ipynb Celda 1\u001b[0m line \u001b[0;36m8\n\u001b[0;32m      <a href='vscode-notebook-cell:/c%3A/Users/javie/Desktop/Prueba/prueba.ipynb#W0sZmlsZQ%3D%3D?line=4'>5</a>\u001b[0m         \u001b[39mprint\u001b[39m(impresion)\n\u001b[0;32m      <a href='vscode-notebook-cell:/c%3A/Users/javie/Desktop/Prueba/prueba.ipynb#W0sZmlsZQ%3D%3D?line=6'>7</a>\u001b[0m printInt(impresion\u001b[39m=\u001b[39m \u001b[39m2\u001b[39m)  \n\u001b[1;32m----> <a href='vscode-notebook-cell:/c%3A/Users/javie/Desktop/Prueba/prueba.ipynb#W0sZmlsZQ%3D%3D?line=7'>8</a>\u001b[0m printInt(impresion\u001b[39m=\u001b[39;49m\u001b[39m\"\u001b[39;49m\u001b[39mHola Mundo\u001b[39;49m\u001b[39m\"\u001b[39;49m)\n",
      "\u001b[1;32mc:\\Users\\javie\\Desktop\\Prueba\\prueba.ipynb Celda 1\u001b[0m line \u001b[0;36m3\n\u001b[0;32m      <a href='vscode-notebook-cell:/c%3A/Users/javie/Desktop/Prueba/prueba.ipynb#W0sZmlsZQ%3D%3D?line=0'>1</a>\u001b[0m \u001b[39mdef\u001b[39;00m \u001b[39mprintInt\u001b[39m(impresion: \u001b[39mint\u001b[39m):\n\u001b[0;32m      <a href='vscode-notebook-cell:/c%3A/Users/javie/Desktop/Prueba/prueba.ipynb#W0sZmlsZQ%3D%3D?line=1'>2</a>\u001b[0m     \u001b[39mif\u001b[39;00m \u001b[39mtype\u001b[39m(impresion) \u001b[39m!=\u001b[39m \u001b[39mint\u001b[39m:\n\u001b[1;32m----> <a href='vscode-notebook-cell:/c%3A/Users/javie/Desktop/Prueba/prueba.ipynb#W0sZmlsZQ%3D%3D?line=2'>3</a>\u001b[0m         \u001b[39mraise\u001b[39;00m \u001b[39mTypeError\u001b[39;00m(\u001b[39m\"\u001b[39m\u001b[39mEl tipo de variable tiene que ser entero\u001b[39m\u001b[39m\"\u001b[39m)\n\u001b[0;32m      <a href='vscode-notebook-cell:/c%3A/Users/javie/Desktop/Prueba/prueba.ipynb#W0sZmlsZQ%3D%3D?line=3'>4</a>\u001b[0m     \u001b[39melse\u001b[39;00m:\n\u001b[0;32m      <a href='vscode-notebook-cell:/c%3A/Users/javie/Desktop/Prueba/prueba.ipynb#W0sZmlsZQ%3D%3D?line=4'>5</a>\u001b[0m         \u001b[39mprint\u001b[39m(impresion)\n",
      "\u001b[1;31mTypeError\u001b[0m: El tipo de variable tiene que ser entero"
     ]
    }
   ],
   "source": [
    "def printInt(impresion: int):\n",
    "    if type(impresion) != int:\n",
    "        raise TypeError(\"El tipo de variable tiene que ser entero\")\n",
    "    else:\n",
    "        print(impresion)\n",
    "\n",
    "printInt(impresion= 2)  \n",
    "printInt(impresion=\"Hola Mundo\")"
   ]
  },
  {
   "cell_type": "code",
   "execution_count": 59,
   "metadata": {},
   "outputs": [],
   "source": [
    "# Función para ver si los parámetros que contiene la lista son del tipo\n",
    "# que se estipulan\n",
    "def isType(lados: list,valueType) -> bool:\n",
    "    response: bool = True\n",
    "    for value in lados:\n",
    "        if not isinstance(value,valueType):\n",
    "            response = False\n",
    "    return response\n",
    "\n",
    "# Función para imprimir un triangulo\n",
    "def triangulo(lados: list[int | float]):\n",
    "    if not isinstance(lados,list):\n",
    "        raise TypeError(\"El parámetro que debes pasar tiene que ser una lista de int o float\")\n",
    "\n",
    "    if len(lados) != 3:\n",
    "        raise ValueError(\"El número de parámetros de lados no corresponde con un triángulo\")\n",
    "    \n",
    "    if (isType(lados,int) or isType(lados,float)):\n",
    "        print(f\"Triángulo de lados {lados}\")\n",
    "    else:\n",
    "        raise TypeError(\"El parámetro que debes pasar tiene que ser una lista de int o float\")\n",
    "        "
   ]
  },
  {
   "cell_type": "code",
   "execution_count": 61,
   "metadata": {},
   "outputs": [
    {
     "name": "stdout",
     "output_type": "stream",
     "text": [
      "Triángulo de lados [2.1, 2.2, 3.3]\n"
     ]
    },
    {
     "ename": "ValueError",
     "evalue": "El número de parámetros de lados no corresponde con un triángulo",
     "output_type": "error",
     "traceback": [
      "\u001b[1;31m---------------------------------------------------------------------------\u001b[0m",
      "\u001b[1;31mValueError\u001b[0m                                Traceback (most recent call last)",
      "\u001b[1;32mc:\\Users\\javie\\Desktop\\Prueba\\prueba.ipynb Celda 3\u001b[0m line \u001b[0;36m2\n\u001b[0;32m      <a href='vscode-notebook-cell:/c%3A/Users/javie/Desktop/Prueba/prueba.ipynb#W2sZmlsZQ%3D%3D?line=0'>1</a>\u001b[0m triangulo(lados\u001b[39m=\u001b[39m[\u001b[39m2.1\u001b[39m,\u001b[39m2.2\u001b[39m,\u001b[39m3.3\u001b[39m])\n\u001b[1;32m----> <a href='vscode-notebook-cell:/c%3A/Users/javie/Desktop/Prueba/prueba.ipynb#W2sZmlsZQ%3D%3D?line=1'>2</a>\u001b[0m triangulo(lados\u001b[39m=\u001b[39;49m[\u001b[39m1\u001b[39;49m,\u001b[39m2\u001b[39;49m,\u001b[39m3\u001b[39;49m,\u001b[39m4\u001b[39;49m])\n",
      "\u001b[1;32mc:\\Users\\javie\\Desktop\\Prueba\\prueba.ipynb Celda 3\u001b[0m line \u001b[0;36m1\n\u001b[0;32m     <a href='vscode-notebook-cell:/c%3A/Users/javie/Desktop/Prueba/prueba.ipynb#W2sZmlsZQ%3D%3D?line=12'>13</a>\u001b[0m     \u001b[39mraise\u001b[39;00m \u001b[39mTypeError\u001b[39;00m(\u001b[39m\"\u001b[39m\u001b[39mEl parámetro que debes pasar tiene que ser una lista de int o float\u001b[39m\u001b[39m\"\u001b[39m)\n\u001b[0;32m     <a href='vscode-notebook-cell:/c%3A/Users/javie/Desktop/Prueba/prueba.ipynb#W2sZmlsZQ%3D%3D?line=14'>15</a>\u001b[0m \u001b[39mif\u001b[39;00m \u001b[39mlen\u001b[39m(lados) \u001b[39m!=\u001b[39m \u001b[39m3\u001b[39m:\n\u001b[1;32m---> <a href='vscode-notebook-cell:/c%3A/Users/javie/Desktop/Prueba/prueba.ipynb#W2sZmlsZQ%3D%3D?line=15'>16</a>\u001b[0m     \u001b[39mraise\u001b[39;00m \u001b[39mValueError\u001b[39;00m(\u001b[39m\"\u001b[39m\u001b[39mEl número de parámetros de lados no corresponde con un triángulo\u001b[39m\u001b[39m\"\u001b[39m)\n\u001b[0;32m     <a href='vscode-notebook-cell:/c%3A/Users/javie/Desktop/Prueba/prueba.ipynb#W2sZmlsZQ%3D%3D?line=17'>18</a>\u001b[0m \u001b[39mif\u001b[39;00m (isType(lados,\u001b[39mint\u001b[39m) \u001b[39mor\u001b[39;00m isType(lados,\u001b[39mfloat\u001b[39m)):\n\u001b[0;32m     <a href='vscode-notebook-cell:/c%3A/Users/javie/Desktop/Prueba/prueba.ipynb#W2sZmlsZQ%3D%3D?line=18'>19</a>\u001b[0m     \u001b[39mprint\u001b[39m(\u001b[39mf\u001b[39m\u001b[39m\"\u001b[39m\u001b[39mTriángulo de lados \u001b[39m\u001b[39m{\u001b[39;00mlados\u001b[39m}\u001b[39;00m\u001b[39m\"\u001b[39m)\n",
      "\u001b[1;31mValueError\u001b[0m: El número de parámetros de lados no corresponde con un triángulo"
     ]
    }
   ],
   "source": [
    "triangulo(lados=[2.1,2.2,3.3])\n",
    "triangulo(lados=[1,2,3,4])"
   ]
  }
 ],
 "metadata": {
  "kernelspec": {
   "display_name": "python12",
   "language": "python",
   "name": "python3"
  },
  "language_info": {
   "codemirror_mode": {
    "name": "ipython",
    "version": 3
   },
   "file_extension": ".py",
   "mimetype": "text/x-python",
   "name": "python",
   "nbconvert_exporter": "python",
   "pygments_lexer": "ipython3",
   "version": "3.12.0"
  }
 },
 "nbformat": 4,
 "nbformat_minor": 2
}
